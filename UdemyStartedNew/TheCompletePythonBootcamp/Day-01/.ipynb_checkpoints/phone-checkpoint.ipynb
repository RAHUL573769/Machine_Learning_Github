{
 "cells": [
  {
   "cell_type": "code",
   "execution_count": 1,
   "id": "cefed1a2-0d26-4725-836e-eabc696a47e1",
   "metadata": {},
   "outputs": [
    {
     "name": "stdout",
     "output_type": "stream",
     "text": [
      "<__main__.Phone object at 0x00000196B3814080>\n"
     ]
    }
   ],
   "source": [
    "class Phone:\n",
    "    price=1900\n",
    "    color=\"blue\"\n",
    "    brand=\"samsung\"\n",
    "my_phone=Phone()\n",
    "\n",
    "print(my_phone)"
   ]
  },
  {
   "cell_type": "code",
   "execution_count": 2,
   "id": "ce695138-0068-42d1-a4a1-aff647c4104c",
   "metadata": {},
   "outputs": [
    {
     "name": "stdout",
     "output_type": "stream",
     "text": [
      "samsung\n"
     ]
    }
   ],
   "source": [
    "print(my_phone.brand)"
   ]
  },
  {
   "cell_type": "code",
   "execution_count": null,
   "id": "67702401-3fd7-4299-bf05-1f1d3567907d",
   "metadata": {},
   "outputs": [],
   "source": []
  }
 ],
 "metadata": {
  "kernelspec": {
   "display_name": "Python 3 (ipykernel)",
   "language": "python",
   "name": "python3"
  },
  "language_info": {
   "codemirror_mode": {
    "name": "ipython",
    "version": 3
   },
   "file_extension": ".py",
   "mimetype": "text/x-python",
   "name": "python",
   "nbconvert_exporter": "python",
   "pygments_lexer": "ipython3",
   "version": "3.12.3"
  },
  "widgets": {
   "application/vnd.jupyter.widget-state+json": {
    "state": {},
    "version_major": 2,
    "version_minor": 0
   }
  }
 },
 "nbformat": 4,
 "nbformat_minor": 5
}
